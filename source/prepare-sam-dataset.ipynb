{
 "cells": [
  {
   "cell_type": "markdown",
   "id": "58dffa5e",
   "metadata": {},
   "source": [
    "#### Convert the original dataset files (extension .mat) to CSV format.\n",
    " - The dataset comprises 480 MAT files (MATLAB files)."
   ]
  },
  {
   "cell_type": "markdown",
   "id": "7dd8d21d",
   "metadata": {},
   "source": [
    "#### Import libraries."
   ]
  },
  {
   "cell_type": "code",
   "execution_count": 6,
   "id": "d0a0dbd7",
   "metadata": {},
   "outputs": [],
   "source": [
    "import scipy.io\n",
    "import pandas as pd\n",
    "import numpy as np"
   ]
  },
  {
   "cell_type": "markdown",
   "id": "5fc6a98d",
   "metadata": {},
   "source": [
    "#### Function that returns the scale (stress level) assigned by a given individual to perform a given task. "
   ]
  },
  {
   "cell_type": "code",
   "execution_count": 7,
   "id": "07628254",
   "metadata": {},
   "outputs": [],
   "source": [
    "\n",
    "def get_scale(data_frame, file_name):\n",
    "    # Returns the scale associated to a certain file (each task).\n",
    "    # Parameters:\n",
    "    #    data_frame: dataframe containing all scales.\n",
    "    #    file_name (str): file name to be processed.\n",
    "    # Return:\n",
    "    #    scale (str): scale value.\n",
    "    file_itens = file_name.split('_')\n",
    "    task_desc = \"\"\n",
    "    sub_number = \"\"\n",
    "    try_number = \"\"\n",
    "    if (file_itens[0] == \"Mirror\") :\n",
    "        task_desc = file_itens[0]\n",
    "        sub_number = file_itens[3]\n",
    "        try_number = file_itens[4].split('.')[0]\n",
    "    else :\n",
    "        task_desc = file_itens[0]\n",
    "        sub_number = file_itens[2]\n",
    "        try_number = file_itens[3].split('.')[0]\n",
    "    line_index = data_frame[data_frame['Subject'] == int(sub_number)].index[0]\n",
    "    column_name = \"\"\n",
    "    if (task_desc == \"Arithmetic\") :\n",
    "        column_name = \"Maths\" + try_number[-1]\n",
    "    elif (task_desc == \"Mirror\") :\n",
    "        column_name = \"Symmetry\" + try_number[-1]\n",
    "    elif (task_desc == \"Stroop\") :\n",
    "        column_name = \"Stroop\" + try_number[-1]\n",
    "    else :\n",
    "        return 0\n",
    "    return data_frame.iloc[line_index][column_name]\n"
   ]
  },
  {
   "cell_type": "markdown",
   "id": "ec94588a",
   "metadata": {},
   "source": [
    "#### Function that converts the list of MAT files into CSV format.\n",
    "- The result is grouped into a single .CSV file.."
   ]
  },
  {
   "cell_type": "code",
   "execution_count": 22,
   "id": "cd82e6fd",
   "metadata": {},
   "outputs": [],
   "source": [
    "\n",
    "def join_files(files_list):\n",
    "    # Converts the MAT files list to a single CSV file.\n",
    "    # Parameters:\n",
    "    #    file_list (list): list of files.\n",
    "    print(\"Init join_files function\")\n",
    "    all_features = {}\n",
    "    all_features[0] = np.empty(0, dtype = int)\n",
    "    for index in range(1, 33):\n",
    "        all_features[index] = np.empty(0)\n",
    "    label_index = index + 1\n",
    "    all_features[label_index] = np.empty(0, dtype = int)\n",
    "    all_scales = pd.read_excel('../dataset/scales.xls')\n",
    "    record_number = 1\n",
    "    for file_name in files_list:\n",
    "        file_content = scipy.io.loadmat('../dataset/matfiles/' + file_name) \n",
    "        for x in file_content:\n",
    "            # Use only numpy.ndarray element (electroencephalogram measurements).\n",
    "            if isinstance(file_content[x], np.ndarray):\n",
    "                features_count = 1\n",
    "                for y in file_content[x]:\n",
    "                    # Variable y contains all measurements for each feature.\n",
    "                    all_features[features_count] = np.append(all_features[features_count], y)\n",
    "                    features_count += 1\n",
    "                for y in range(0, len(file_content[x][0])):\n",
    "                    label_value = get_scale(all_scales, file_name)\n",
    "                    all_features[features_count] = np.append(all_features[features_count], label_value)\n",
    "                    all_features[0] = np.append(all_features[0], record_number)\n",
    "                    record_number += 1\n",
    "    print(\"Start writing CSV file.\")\n",
    "    df = pd.DataFrame.from_dict(all_features)\n",
    "    df.rename(columns = {0: 'recordNumber', 1: 'CZ', 2: 'FZ', 3: 'Fp1', 4: 'F7', 5: 'F3', 6: 'FC1', 7: 'C3',\n",
    "                         8: 'FC5', 9: 'FT9', 10: 'T7', 11: 'CP5', 12: 'CP1', 13: 'P3', 14: 'P7', 15: 'PO9',\n",
    "                         16: 'O1', 17: 'PZ', 18: 'OZ', 19: 'O2', 20: 'PO10', 21: 'P8', 22: 'P4', 23: 'CP2',\n",
    "                         24: 'CP6', 25: 'T8', 26: 'FT10', 27: 'FC6', 28: 'C4', 29: 'FC2', 30: 'F4',\n",
    "                         31: 'F8', 32: 'Fp2', 33: 'Scale'}, inplace = True)\n",
    "    df.to_csv('../dataset/original-sam-dataset.csv', index = False,  sep='|')\n",
    "    print(\"Finish writing CSV file.\")\n"
   ]
  },
  {
   "cell_type": "markdown",
   "id": "99f72c00",
   "metadata": {},
   "source": [
    "#### Generate the list with the names of the MAT files to be converted to CSV and call the conversion function."
   ]
  },
  {
   "cell_type": "code",
   "execution_count": 23,
   "id": "2e1d9bb9",
   "metadata": {},
   "outputs": [
    {
     "name": "stdout",
     "output_type": "stream",
     "text": [
      "Init join_files function\n",
      "Start writing CSV file.\n",
      "Finish writing CSV file.\n"
     ]
    }
   ],
   "source": [
    "files_list = []\n",
    "\n",
    "tasks_list = [\"Arithmetic\", \"Mirror_image\", \"Relax\", \"Stroop\"]\n",
    "\n",
    "for task in tasks_list:\n",
    "    for subject in range(0, 40):\n",
    "        for trials in range(0, 3):\n",
    "            files_list.append(task + \"_sub_\" + str(subject + 1) + \"_trial\" + str(trials + 1) + \".mat\")\n",
    "\n",
    "join_files(files_list)"
   ]
  }
 ],
 "metadata": {
  "kernelspec": {
   "display_name": "Python 3 (ipykernel)",
   "language": "python",
   "name": "python3"
  },
  "language_info": {
   "codemirror_mode": {
    "name": "ipython",
    "version": 3
   },
   "file_extension": ".py",
   "mimetype": "text/x-python",
   "name": "python",
   "nbconvert_exporter": "python",
   "pygments_lexer": "ipython3",
   "version": "3.9.16"
  }
 },
 "nbformat": 4,
 "nbformat_minor": 5
}
